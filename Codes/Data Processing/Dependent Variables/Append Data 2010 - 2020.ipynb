{
 "cells": [
  {
   "cell_type": "code",
   "execution_count": 17,
   "metadata": {},
   "outputs": [],
   "source": [
    "import pandas as pd"
   ]
  },
  {
   "cell_type": "code",
   "execution_count": 41,
   "metadata": {},
   "outputs": [],
   "source": [
    "Data_2020 = pd.read_csv(r'C:\\Users\\Shilp\\Documents\\Shilpa\\Shilpa MSBA\\Semester 1\\Programming for Analytics [CIS 9650]\\Final Group Project\\2020.csv')"
   ]
  },
  {
   "cell_type": "code",
   "execution_count": 42,
   "metadata": {},
   "outputs": [],
   "source": [
    "Data_2019 = pd.read_csv(r'C:\\Users\\Shilp\\Documents\\Shilpa\\Shilpa MSBA\\Semester 1\\Programming for Analytics [CIS 9650]\\Final Group Project\\2019.csv')"
   ]
  },
  {
   "cell_type": "code",
   "execution_count": 43,
   "metadata": {},
   "outputs": [],
   "source": [
    "Data_2018= pd.read_csv(r'C:\\Users\\Shilp\\Documents\\Shilpa\\Shilpa MSBA\\Semester 1\\Programming for Analytics [CIS 9650]\\Final Group Project\\2018.csv')"
   ]
  },
  {
   "cell_type": "code",
   "execution_count": 44,
   "metadata": {},
   "outputs": [],
   "source": [
    "Data_2017= pd.read_csv(r'C:\\Users\\Shilp\\Documents\\Shilpa\\Shilpa MSBA\\Semester 1\\Programming for Analytics [CIS 9650]\\Final Group Project\\2017.csv')"
   ]
  },
  {
   "cell_type": "code",
   "execution_count": 45,
   "metadata": {},
   "outputs": [],
   "source": [
    "Data_2016= pd.read_csv(r'C:\\Users\\Shilp\\Documents\\Shilpa\\Shilpa MSBA\\Semester 1\\Programming for Analytics [CIS 9650]\\Final Group Project\\2016.csv')"
   ]
  },
  {
   "cell_type": "code",
   "execution_count": 46,
   "metadata": {},
   "outputs": [],
   "source": [
    "Data_2015= pd.read_csv(r'C:\\Users\\Shilp\\Documents\\Shilpa\\Shilpa MSBA\\Semester 1\\Programming for Analytics [CIS 9650]\\Final Group Project\\2015.csv')"
   ]
  },
  {
   "cell_type": "code",
   "execution_count": 47,
   "metadata": {},
   "outputs": [],
   "source": [
    "Data_2014= pd.read_csv(r'C:\\Users\\Shilp\\Documents\\Shilpa\\Shilpa MSBA\\Semester 1\\Programming for Analytics [CIS 9650]\\Final Group Project\\2014.csv')"
   ]
  },
  {
   "cell_type": "code",
   "execution_count": 48,
   "metadata": {},
   "outputs": [],
   "source": [
    "Data_2013 = pd.read_csv(r'C:\\Users\\Shilp\\Documents\\Shilpa\\Shilpa MSBA\\Semester 1\\Programming for Analytics [CIS 9650]\\Final Group Project\\2013.csv')"
   ]
  },
  {
   "cell_type": "code",
   "execution_count": 49,
   "metadata": {},
   "outputs": [],
   "source": [
    "Data_2012= pd.read_csv(r'C:\\Users\\Shilp\\Documents\\Shilpa\\Shilpa MSBA\\Semester 1\\Programming for Analytics [CIS 9650]\\Final Group Project\\2012.csv')"
   ]
  },
  {
   "cell_type": "code",
   "execution_count": 50,
   "metadata": {},
   "outputs": [],
   "source": [
    "Data_2011= pd.read_csv(r'C:\\Users\\Shilp\\Documents\\Shilpa\\Shilpa MSBA\\Semester 1\\Programming for Analytics [CIS 9650]\\Final Group Project\\2011.csv')"
   ]
  },
  {
   "cell_type": "code",
   "execution_count": 51,
   "metadata": {},
   "outputs": [],
   "source": [
    "Data_2010= pd.read_csv(r'C:\\Users\\Shilp\\Documents\\Shilpa\\Shilpa MSBA\\Semester 1\\Programming for Analytics [CIS 9650]\\Final Group Project\\2010.csv')"
   ]
  },
  {
   "cell_type": "code",
   "execution_count": 52,
   "metadata": {},
   "outputs": [],
   "source": [
    "data_append = Data_2020.append(Data_2019, ignore_index=True)"
   ]
  },
  {
   "cell_type": "code",
   "execution_count": 61,
   "metadata": {},
   "outputs": [],
   "source": [
    "data_append = data_append.append(Data_2010, ignore_index=True)"
   ]
  },
  {
   "cell_type": "code",
   "execution_count": 77,
   "metadata": {},
   "outputs": [],
   "source": [
    "data_append.to_csv(r'C:\\Users\\Shilp\\Documents\\Shilpa\\Shilpa MSBA\\Semester 1\\Programming for Analytics [CIS 9650]\\Final Group Project\\data_2010_2020.csv') "
   ]
  },
  {
   "cell_type": "code",
   "execution_count": 76,
   "metadata": {},
   "outputs": [
    {
     "data": {
      "text/html": [
       "<div>\n",
       "<style scoped>\n",
       "    .dataframe tbody tr th:only-of-type {\n",
       "        vertical-align: middle;\n",
       "    }\n",
       "\n",
       "    .dataframe tbody tr th {\n",
       "        vertical-align: top;\n",
       "    }\n",
       "\n",
       "    .dataframe thead th {\n",
       "        text-align: right;\n",
       "    }\n",
       "</style>\n",
       "<table border=\"1\" class=\"dataframe\">\n",
       "  <thead>\n",
       "    <tr style=\"text-align: right;\">\n",
       "      <th></th>\n",
       "      <th>Unnamed: 0</th>\n",
       "      <th>State</th>\n",
       "      <th>date</th>\n",
       "      <th>metric_name</th>\n",
       "      <th>metric_value</th>\n",
       "    </tr>\n",
       "  </thead>\n",
       "  <tbody>\n",
       "    <tr>\n",
       "      <th>0</th>\n",
       "      <td>3</td>\n",
       "      <td>AK</td>\n",
       "      <td>20200101</td>\n",
       "      <td>PRCP</td>\n",
       "      <td>59.407895</td>\n",
       "    </tr>\n",
       "    <tr>\n",
       "      <th>1</th>\n",
       "      <td>9</td>\n",
       "      <td>AK</td>\n",
       "      <td>20200101</td>\n",
       "      <td>SNOW</td>\n",
       "      <td>48.717949</td>\n",
       "    </tr>\n",
       "    <tr>\n",
       "      <th>2</th>\n",
       "      <td>16</td>\n",
       "      <td>AK</td>\n",
       "      <td>20200101</td>\n",
       "      <td>TAVG</td>\n",
       "      <td>-161.350318</td>\n",
       "    </tr>\n",
       "    <tr>\n",
       "      <th>3</th>\n",
       "      <td>18</td>\n",
       "      <td>AK</td>\n",
       "      <td>20200101</td>\n",
       "      <td>TMAX</td>\n",
       "      <td>-94.241935</td>\n",
       "    </tr>\n",
       "    <tr>\n",
       "      <th>4</th>\n",
       "      <td>19</td>\n",
       "      <td>AK</td>\n",
       "      <td>20200101</td>\n",
       "      <td>TMIN</td>\n",
       "      <td>-171.959677</td>\n",
       "    </tr>\n",
       "    <tr>\n",
       "      <th>...</th>\n",
       "      <td>...</td>\n",
       "      <td>...</td>\n",
       "      <td>...</td>\n",
       "      <td>...</td>\n",
       "      <td>...</td>\n",
       "    </tr>\n",
       "    <tr>\n",
       "      <th>982553</th>\n",
       "      <td>458183</td>\n",
       "      <td>WY</td>\n",
       "      <td>20101231</td>\n",
       "      <td>PRCP</td>\n",
       "      <td>26.484950</td>\n",
       "    </tr>\n",
       "    <tr>\n",
       "      <th>982554</th>\n",
       "      <td>458184</td>\n",
       "      <td>WY</td>\n",
       "      <td>20101231</td>\n",
       "      <td>SNOW</td>\n",
       "      <td>58.369565</td>\n",
       "    </tr>\n",
       "    <tr>\n",
       "      <th>982555</th>\n",
       "      <td>458186</td>\n",
       "      <td>WY</td>\n",
       "      <td>20101231</td>\n",
       "      <td>TAVG</td>\n",
       "      <td>-215.582524</td>\n",
       "    </tr>\n",
       "    <tr>\n",
       "      <th>982556</th>\n",
       "      <td>458187</td>\n",
       "      <td>WY</td>\n",
       "      <td>20101231</td>\n",
       "      <td>TMAX</td>\n",
       "      <td>-153.293532</td>\n",
       "    </tr>\n",
       "    <tr>\n",
       "      <th>982557</th>\n",
       "      <td>458188</td>\n",
       "      <td>WY</td>\n",
       "      <td>20101231</td>\n",
       "      <td>TMIN</td>\n",
       "      <td>-241.129353</td>\n",
       "    </tr>\n",
       "  </tbody>\n",
       "</table>\n",
       "<p>982558 rows × 5 columns</p>\n",
       "</div>"
      ],
      "text/plain": [
       "        Unnamed: 0 State      date metric_name  metric_value\n",
       "0                3    AK  20200101        PRCP     59.407895\n",
       "1                9    AK  20200101        SNOW     48.717949\n",
       "2               16    AK  20200101        TAVG   -161.350318\n",
       "3               18    AK  20200101        TMAX    -94.241935\n",
       "4               19    AK  20200101        TMIN   -171.959677\n",
       "...            ...   ...       ...         ...           ...\n",
       "982553      458183    WY  20101231        PRCP     26.484950\n",
       "982554      458184    WY  20101231        SNOW     58.369565\n",
       "982555      458186    WY  20101231        TAVG   -215.582524\n",
       "982556      458187    WY  20101231        TMAX   -153.293532\n",
       "982557      458188    WY  20101231        TMIN   -241.129353\n",
       "\n",
       "[982558 rows x 5 columns]"
      ]
     },
     "execution_count": 76,
     "metadata": {},
     "output_type": "execute_result"
    }
   ],
   "source": [
    "data_append.drop(['var4'], 1)"
   ]
  },
  {
   "cell_type": "code",
   "execution_count": null,
   "metadata": {},
   "outputs": [],
   "source": []
  }
 ],
 "metadata": {
  "kernelspec": {
   "display_name": "Python 3",
   "language": "python",
   "name": "python3"
  },
  "language_info": {
   "codemirror_mode": {
    "name": "ipython",
    "version": 3
   },
   "file_extension": ".py",
   "mimetype": "text/x-python",
   "name": "python",
   "nbconvert_exporter": "python",
   "pygments_lexer": "ipython3",
   "version": "3.8.3"
  }
 },
 "nbformat": 4,
 "nbformat_minor": 4
}
