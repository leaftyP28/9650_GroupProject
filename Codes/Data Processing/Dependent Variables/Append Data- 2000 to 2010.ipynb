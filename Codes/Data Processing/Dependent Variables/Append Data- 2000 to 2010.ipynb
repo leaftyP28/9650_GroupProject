{
 "cells": [
  {
   "cell_type": "code",
   "execution_count": 3,
   "metadata": {},
   "outputs": [],
   "source": [
    "import pandas as pd"
   ]
  },
  {
   "cell_type": "code",
   "execution_count": 4,
   "metadata": {},
   "outputs": [],
   "source": [
    "Data_2009 = pd.read_csv(r'C:\\Users\\Shilp\\Documents\\Shilpa\\Shilpa MSBA\\Semester 1\\Programming for Analytics [CIS 9650]\\Final Group Project\\2009.csv')"
   ]
  },
  {
   "cell_type": "code",
   "execution_count": 5,
   "metadata": {},
   "outputs": [],
   "source": [
    "Data_2008= pd.read_csv(r'C:\\Users\\Shilp\\Documents\\Shilpa\\Shilpa MSBA\\Semester 1\\Programming for Analytics [CIS 9650]\\Final Group Project\\2008.csv')"
   ]
  },
  {
   "cell_type": "code",
   "execution_count": 7,
   "metadata": {},
   "outputs": [],
   "source": [
    "Data_2007= pd.read_csv(r'C:\\Users\\Shilp\\Documents\\Shilpa\\Shilpa MSBA\\Semester 1\\Programming for Analytics [CIS 9650]\\Final Group Project\\2007.csv')"
   ]
  },
  {
   "cell_type": "code",
   "execution_count": 8,
   "metadata": {},
   "outputs": [],
   "source": [
    "Data_2006= pd.read_csv(r'C:\\Users\\Shilp\\Documents\\Shilpa\\Shilpa MSBA\\Semester 1\\Programming for Analytics [CIS 9650]\\Final Group Project\\2006.csv')"
   ]
  },
  {
   "cell_type": "code",
   "execution_count": 9,
   "metadata": {},
   "outputs": [],
   "source": [
    "Data_2005= pd.read_csv(r'C:\\Users\\Shilp\\Documents\\Shilpa\\Shilpa MSBA\\Semester 1\\Programming for Analytics [CIS 9650]\\Final Group Project\\2005.csv')"
   ]
  },
  {
   "cell_type": "code",
   "execution_count": 10,
   "metadata": {},
   "outputs": [],
   "source": [
    "Data_2004= pd.read_csv(r'C:\\Users\\Shilp\\Documents\\Shilpa\\Shilpa MSBA\\Semester 1\\Programming for Analytics [CIS 9650]\\Final Group Project\\2004.csv')"
   ]
  },
  {
   "cell_type": "code",
   "execution_count": 11,
   "metadata": {},
   "outputs": [],
   "source": [
    "Data_2003 = pd.read_csv(r'C:\\Users\\Shilp\\Documents\\Shilpa\\Shilpa MSBA\\Semester 1\\Programming for Analytics [CIS 9650]\\Final Group Project\\2003.csv')"
   ]
  },
  {
   "cell_type": "code",
   "execution_count": 12,
   "metadata": {},
   "outputs": [],
   "source": [
    "Data_2002= pd.read_csv(r'C:\\Users\\Shilp\\Documents\\Shilpa\\Shilpa MSBA\\Semester 1\\Programming for Analytics [CIS 9650]\\Final Group Project\\2002.csv')"
   ]
  },
  {
   "cell_type": "code",
   "execution_count": 13,
   "metadata": {},
   "outputs": [],
   "source": [
    "Data_2001= pd.read_csv(r'C:\\Users\\Shilp\\Documents\\Shilpa\\Shilpa MSBA\\Semester 1\\Programming for Analytics [CIS 9650]\\Final Group Project\\2001.csv')"
   ]
  },
  {
   "cell_type": "code",
   "execution_count": 14,
   "metadata": {},
   "outputs": [],
   "source": [
    "Data_2000= pd.read_csv(r'C:\\Users\\Shilp\\Documents\\Shilpa\\Shilpa MSBA\\Semester 1\\Programming for Analytics [CIS 9650]\\Final Group Project\\2000.csv')"
   ]
  },
  {
   "cell_type": "code",
   "execution_count": 15,
   "metadata": {},
   "outputs": [],
   "source": [
    "csv_file_list = [Data_2000, Data_2001, Data_2002, Data_2003, Data_2004, Data_2005,Data_2006,Data_2007,Data_2008,Data_2009]\n",
    "\n",
    "list_of_dataframes = []\n",
    "for filename in csv_file_list:\n",
    "    list_of_dataframes.append(filename)\n",
    "\n",
    "data_append = pd.concat(list_of_dataframes)"
   ]
  },
  {
   "cell_type": "code",
   "execution_count": 16,
   "metadata": {},
   "outputs": [
    {
     "data": {
      "text/html": [
       "<div>\n",
       "<style scoped>\n",
       "    .dataframe tbody tr th:only-of-type {\n",
       "        vertical-align: middle;\n",
       "    }\n",
       "\n",
       "    .dataframe tbody tr th {\n",
       "        vertical-align: top;\n",
       "    }\n",
       "\n",
       "    .dataframe thead th {\n",
       "        text-align: right;\n",
       "    }\n",
       "</style>\n",
       "<table border=\"1\" class=\"dataframe\">\n",
       "  <thead>\n",
       "    <tr style=\"text-align: right;\">\n",
       "      <th></th>\n",
       "      <th>Unnamed: 0</th>\n",
       "      <th>State</th>\n",
       "      <th>date</th>\n",
       "      <th>metric_name</th>\n",
       "      <th>metric_value</th>\n",
       "      <th>var4</th>\n",
       "    </tr>\n",
       "  </thead>\n",
       "  <tbody>\n",
       "    <tr>\n",
       "      <th>0</th>\n",
       "      <td>5</td>\n",
       "      <td>AK</td>\n",
       "      <td>20000101</td>\n",
       "      <td>PRCP</td>\n",
       "      <td>3.772727</td>\n",
       "      <td>1473.468468</td>\n",
       "    </tr>\n",
       "    <tr>\n",
       "      <th>1</th>\n",
       "      <td>7</td>\n",
       "      <td>AK</td>\n",
       "      <td>20000101</td>\n",
       "      <td>SNOW</td>\n",
       "      <td>2.168142</td>\n",
       "      <td>NaN</td>\n",
       "    </tr>\n",
       "    <tr>\n",
       "      <th>2</th>\n",
       "      <td>10</td>\n",
       "      <td>AK</td>\n",
       "      <td>20000101</td>\n",
       "      <td>TAVG</td>\n",
       "      <td>-23.055556</td>\n",
       "      <td>NaN</td>\n",
       "    </tr>\n",
       "    <tr>\n",
       "      <th>3</th>\n",
       "      <td>11</td>\n",
       "      <td>AK</td>\n",
       "      <td>20000101</td>\n",
       "      <td>TMAX</td>\n",
       "      <td>-239.839779</td>\n",
       "      <td>1524.247312</td>\n",
       "    </tr>\n",
       "    <tr>\n",
       "      <th>4</th>\n",
       "      <td>12</td>\n",
       "      <td>AK</td>\n",
       "      <td>20000101</td>\n",
       "      <td>TMIN</td>\n",
       "      <td>-301.219780</td>\n",
       "      <td>1515.478723</td>\n",
       "    </tr>\n",
       "  </tbody>\n",
       "</table>\n",
       "</div>"
      ],
      "text/plain": [
       "   Unnamed: 0 State      date metric_name  metric_value         var4\n",
       "0           5    AK  20000101        PRCP      3.772727  1473.468468\n",
       "1           7    AK  20000101        SNOW      2.168142          NaN\n",
       "2          10    AK  20000101        TAVG    -23.055556          NaN\n",
       "3          11    AK  20000101        TMAX   -239.839779  1524.247312\n",
       "4          12    AK  20000101        TMIN   -301.219780  1515.478723"
      ]
     },
     "execution_count": 16,
     "metadata": {},
     "output_type": "execute_result"
    }
   ],
   "source": [
    "data_append.head()"
   ]
  },
  {
   "cell_type": "code",
   "execution_count": 18,
   "metadata": {},
   "outputs": [
    {
     "data": {
      "text/html": [
       "<div>\n",
       "<style scoped>\n",
       "    .dataframe tbody tr th:only-of-type {\n",
       "        vertical-align: middle;\n",
       "    }\n",
       "\n",
       "    .dataframe tbody tr th {\n",
       "        vertical-align: top;\n",
       "    }\n",
       "\n",
       "    .dataframe thead th {\n",
       "        text-align: right;\n",
       "    }\n",
       "</style>\n",
       "<table border=\"1\" class=\"dataframe\">\n",
       "  <thead>\n",
       "    <tr style=\"text-align: right;\">\n",
       "      <th></th>\n",
       "      <th>State</th>\n",
       "      <th>date</th>\n",
       "      <th>metric_name</th>\n",
       "      <th>metric_value</th>\n",
       "    </tr>\n",
       "  </thead>\n",
       "  <tbody>\n",
       "    <tr>\n",
       "      <th>0</th>\n",
       "      <td>AK</td>\n",
       "      <td>20000101</td>\n",
       "      <td>PRCP</td>\n",
       "      <td>3.772727</td>\n",
       "    </tr>\n",
       "    <tr>\n",
       "      <th>1</th>\n",
       "      <td>AK</td>\n",
       "      <td>20000101</td>\n",
       "      <td>SNOW</td>\n",
       "      <td>2.168142</td>\n",
       "    </tr>\n",
       "    <tr>\n",
       "      <th>2</th>\n",
       "      <td>AK</td>\n",
       "      <td>20000101</td>\n",
       "      <td>TAVG</td>\n",
       "      <td>-23.055556</td>\n",
       "    </tr>\n",
       "    <tr>\n",
       "      <th>3</th>\n",
       "      <td>AK</td>\n",
       "      <td>20000101</td>\n",
       "      <td>TMAX</td>\n",
       "      <td>-239.839779</td>\n",
       "    </tr>\n",
       "    <tr>\n",
       "      <th>4</th>\n",
       "      <td>AK</td>\n",
       "      <td>20000101</td>\n",
       "      <td>TMIN</td>\n",
       "      <td>-301.219780</td>\n",
       "    </tr>\n",
       "    <tr>\n",
       "      <th>...</th>\n",
       "      <td>...</td>\n",
       "      <td>...</td>\n",
       "      <td>...</td>\n",
       "      <td>...</td>\n",
       "    </tr>\n",
       "    <tr>\n",
       "      <th>90482</th>\n",
       "      <td>WY</td>\n",
       "      <td>20091231</td>\n",
       "      <td>PRCP</td>\n",
       "      <td>9.058394</td>\n",
       "    </tr>\n",
       "    <tr>\n",
       "      <th>90483</th>\n",
       "      <td>WY</td>\n",
       "      <td>20091231</td>\n",
       "      <td>SNOW</td>\n",
       "      <td>3.646067</td>\n",
       "    </tr>\n",
       "    <tr>\n",
       "      <th>90484</th>\n",
       "      <td>WY</td>\n",
       "      <td>20091231</td>\n",
       "      <td>TAVG</td>\n",
       "      <td>-96.281250</td>\n",
       "    </tr>\n",
       "    <tr>\n",
       "      <th>90485</th>\n",
       "      <td>WY</td>\n",
       "      <td>20091231</td>\n",
       "      <td>TMAX</td>\n",
       "      <td>-49.497110</td>\n",
       "    </tr>\n",
       "    <tr>\n",
       "      <th>90486</th>\n",
       "      <td>WY</td>\n",
       "      <td>20091231</td>\n",
       "      <td>TMIN</td>\n",
       "      <td>-141.572254</td>\n",
       "    </tr>\n",
       "  </tbody>\n",
       "</table>\n",
       "<p>908818 rows × 4 columns</p>\n",
       "</div>"
      ],
      "text/plain": [
       "      State      date metric_name  metric_value\n",
       "0        AK  20000101        PRCP      3.772727\n",
       "1        AK  20000101        SNOW      2.168142\n",
       "2        AK  20000101        TAVG    -23.055556\n",
       "3        AK  20000101        TMAX   -239.839779\n",
       "4        AK  20000101        TMIN   -301.219780\n",
       "...     ...       ...         ...           ...\n",
       "90482    WY  20091231        PRCP      9.058394\n",
       "90483    WY  20091231        SNOW      3.646067\n",
       "90484    WY  20091231        TAVG    -96.281250\n",
       "90485    WY  20091231        TMAX    -49.497110\n",
       "90486    WY  20091231        TMIN   -141.572254\n",
       "\n",
       "[908818 rows x 4 columns]"
      ]
     },
     "execution_count": 18,
     "metadata": {},
     "output_type": "execute_result"
    }
   ],
   "source": [
    "data_append.drop(['var4','Unnamed: 0'], 1)"
   ]
  },
  {
   "cell_type": "code",
   "execution_count": 19,
   "metadata": {},
   "outputs": [],
   "source": [
    "data_append.to_csv(r'C:\\Users\\Shilp\\Documents\\Shilpa\\Shilpa MSBA\\Semester 1\\Programming for Analytics [CIS 9650]\\Final Group Project\\data_2000_2009.csv') "
   ]
  },
  {
   "cell_type": "code",
   "execution_count": null,
   "metadata": {},
   "outputs": [],
   "source": []
  }
 ],
 "metadata": {
  "kernelspec": {
   "display_name": "Python 3",
   "language": "python",
   "name": "python3"
  },
  "language_info": {
   "codemirror_mode": {
    "name": "ipython",
    "version": 3
   },
   "file_extension": ".py",
   "mimetype": "text/x-python",
   "name": "python",
   "nbconvert_exporter": "python",
   "pygments_lexer": "ipython3",
   "version": "3.8.3"
  }
 },
 "nbformat": 4,
 "nbformat_minor": 4
}
