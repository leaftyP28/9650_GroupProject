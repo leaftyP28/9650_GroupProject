{
 "cells": [
  {
   "cell_type": "code",
   "execution_count": 16,
   "metadata": {},
   "outputs": [],
   "source": [
    "import pandas as pd"
   ]
  },
  {
   "cell_type": "code",
   "execution_count": 17,
   "metadata": {},
   "outputs": [],
   "source": [
    "Data_1999 = pd.read_csv(r'C:\\Users\\Shilp\\Documents\\Shilpa\\Shilpa MSBA\\Semester 1\\Programming for Analytics [CIS 9650]\\Final Group Project\\1999.csv')"
   ]
  },
  {
   "cell_type": "code",
   "execution_count": 18,
   "metadata": {},
   "outputs": [],
   "source": [
    "Data_1998= pd.read_csv(r'C:\\Users\\Shilp\\Documents\\Shilpa\\Shilpa MSBA\\Semester 1\\Programming for Analytics [CIS 9650]\\Final Group Project\\1998.csv')"
   ]
  },
  {
   "cell_type": "code",
   "execution_count": 19,
   "metadata": {},
   "outputs": [],
   "source": [
    "Data_1997= pd.read_csv(r'C:\\Users\\Shilp\\Documents\\Shilpa\\Shilpa MSBA\\Semester 1\\Programming for Analytics [CIS 9650]\\Final Group Project\\1997.csv')"
   ]
  },
  {
   "cell_type": "code",
   "execution_count": 20,
   "metadata": {},
   "outputs": [],
   "source": [
    "Data_1996= pd.read_csv(r'C:\\Users\\Shilp\\Documents\\Shilpa\\Shilpa MSBA\\Semester 1\\Programming for Analytics [CIS 9650]\\Final Group Project\\1996.csv')"
   ]
  },
  {
   "cell_type": "code",
   "execution_count": 21,
   "metadata": {},
   "outputs": [],
   "source": [
    "Data_1995= pd.read_csv(r'C:\\Users\\Shilp\\Documents\\Shilpa\\Shilpa MSBA\\Semester 1\\Programming for Analytics [CIS 9650]\\Final Group Project\\1995.csv')"
   ]
  },
  {
   "cell_type": "code",
   "execution_count": 22,
   "metadata": {},
   "outputs": [],
   "source": [
    "Data_1994= pd.read_csv(r'C:\\Users\\Shilp\\Documents\\Shilpa\\Shilpa MSBA\\Semester 1\\Programming for Analytics [CIS 9650]\\Final Group Project\\1994.csv')"
   ]
  },
  {
   "cell_type": "code",
   "execution_count": 23,
   "metadata": {},
   "outputs": [],
   "source": [
    "Data_1993 = pd.read_csv(r'C:\\Users\\Shilp\\Documents\\Shilpa\\Shilpa MSBA\\Semester 1\\Programming for Analytics [CIS 9650]\\Final Group Project\\1993.csv')"
   ]
  },
  {
   "cell_type": "code",
   "execution_count": 24,
   "metadata": {},
   "outputs": [],
   "source": [
    "Data_1992= pd.read_csv(r'C:\\Users\\Shilp\\Documents\\Shilpa\\Shilpa MSBA\\Semester 1\\Programming for Analytics [CIS 9650]\\Final Group Project\\1992.csv')"
   ]
  },
  {
   "cell_type": "code",
   "execution_count": 25,
   "metadata": {},
   "outputs": [],
   "source": [
    "Data_1991= pd.read_csv(r'C:\\Users\\Shilp\\Documents\\Shilpa\\Shilpa MSBA\\Semester 1\\Programming for Analytics [CIS 9650]\\Final Group Project\\1991.csv')"
   ]
  },
  {
   "cell_type": "code",
   "execution_count": 26,
   "metadata": {},
   "outputs": [],
   "source": [
    "Data_1990= pd.read_csv(r'C:\\Users\\Shilp\\Documents\\Shilpa\\Shilpa MSBA\\Semester 1\\Programming for Analytics [CIS 9650]\\Final Group Project\\1990.csv')"
   ]
  },
  {
   "cell_type": "code",
   "execution_count": 27,
   "metadata": {},
   "outputs": [],
   "source": [
    "csv_file_list = [Data_1990, Data_1991, Data_1992, Data_1993, Data_1994, Data_1995,Data_1996,Data_1997,Data_1998,Data_1999]\n",
    "\n",
    "list_of_dataframes = []\n",
    "for filename in csv_file_list:\n",
    "    list_of_dataframes.append(filename)\n",
    "\n",
    "data_append = pd.concat(list_of_dataframes)"
   ]
  },
  {
   "cell_type": "code",
   "execution_count": 28,
   "metadata": {},
   "outputs": [
    {
     "data": {
      "text/html": [
       "<div>\n",
       "<style scoped>\n",
       "    .dataframe tbody tr th:only-of-type {\n",
       "        vertical-align: middle;\n",
       "    }\n",
       "\n",
       "    .dataframe tbody tr th {\n",
       "        vertical-align: top;\n",
       "    }\n",
       "\n",
       "    .dataframe thead th {\n",
       "        text-align: right;\n",
       "    }\n",
       "</style>\n",
       "<table border=\"1\" class=\"dataframe\">\n",
       "  <thead>\n",
       "    <tr style=\"text-align: right;\">\n",
       "      <th></th>\n",
       "      <th>Unnamed: 0</th>\n",
       "      <th>State</th>\n",
       "      <th>date</th>\n",
       "      <th>metric_name</th>\n",
       "      <th>metric_value</th>\n",
       "      <th>var4</th>\n",
       "    </tr>\n",
       "  </thead>\n",
       "  <tbody>\n",
       "    <tr>\n",
       "      <th>0</th>\n",
       "      <td>5</td>\n",
       "      <td>AK</td>\n",
       "      <td>19900101</td>\n",
       "      <td>PRCP</td>\n",
       "      <td>9.441667</td>\n",
       "      <td>1446.666667</td>\n",
       "    </tr>\n",
       "    <tr>\n",
       "      <th>1</th>\n",
       "      <td>6</td>\n",
       "      <td>AK</td>\n",
       "      <td>19900101</td>\n",
       "      <td>SNOW</td>\n",
       "      <td>13.351064</td>\n",
       "      <td>NaN</td>\n",
       "    </tr>\n",
       "    <tr>\n",
       "      <th>2</th>\n",
       "      <td>8</td>\n",
       "      <td>AK</td>\n",
       "      <td>19900101</td>\n",
       "      <td>TAVG</td>\n",
       "      <td>-1.333333</td>\n",
       "      <td>NaN</td>\n",
       "    </tr>\n",
       "    <tr>\n",
       "      <th>3</th>\n",
       "      <td>9</td>\n",
       "      <td>AK</td>\n",
       "      <td>19900101</td>\n",
       "      <td>TMAX</td>\n",
       "      <td>-141.514286</td>\n",
       "      <td>1450.947368</td>\n",
       "    </tr>\n",
       "    <tr>\n",
       "      <th>4</th>\n",
       "      <td>10</td>\n",
       "      <td>AK</td>\n",
       "      <td>19900101</td>\n",
       "      <td>TMIN</td>\n",
       "      <td>-218.133333</td>\n",
       "      <td>1450.947368</td>\n",
       "    </tr>\n",
       "  </tbody>\n",
       "</table>\n",
       "</div>"
      ],
      "text/plain": [
       "   Unnamed: 0 State      date metric_name  metric_value         var4\n",
       "0           5    AK  19900101        PRCP      9.441667  1446.666667\n",
       "1           6    AK  19900101        SNOW     13.351064          NaN\n",
       "2           8    AK  19900101        TAVG     -1.333333          NaN\n",
       "3           9    AK  19900101        TMAX   -141.514286  1450.947368\n",
       "4          10    AK  19900101        TMIN   -218.133333  1450.947368"
      ]
     },
     "execution_count": 28,
     "metadata": {},
     "output_type": "execute_result"
    }
   ],
   "source": [
    "data_append.head()"
   ]
  },
  {
   "cell_type": "code",
   "execution_count": 29,
   "metadata": {},
   "outputs": [
    {
     "data": {
      "text/html": [
       "<div>\n",
       "<style scoped>\n",
       "    .dataframe tbody tr th:only-of-type {\n",
       "        vertical-align: middle;\n",
       "    }\n",
       "\n",
       "    .dataframe tbody tr th {\n",
       "        vertical-align: top;\n",
       "    }\n",
       "\n",
       "    .dataframe thead th {\n",
       "        text-align: right;\n",
       "    }\n",
       "</style>\n",
       "<table border=\"1\" class=\"dataframe\">\n",
       "  <thead>\n",
       "    <tr style=\"text-align: right;\">\n",
       "      <th></th>\n",
       "      <th>State</th>\n",
       "      <th>date</th>\n",
       "      <th>metric_name</th>\n",
       "      <th>metric_value</th>\n",
       "    </tr>\n",
       "  </thead>\n",
       "  <tbody>\n",
       "    <tr>\n",
       "      <th>0</th>\n",
       "      <td>AK</td>\n",
       "      <td>19900101</td>\n",
       "      <td>PRCP</td>\n",
       "      <td>9.441667</td>\n",
       "    </tr>\n",
       "    <tr>\n",
       "      <th>1</th>\n",
       "      <td>AK</td>\n",
       "      <td>19900101</td>\n",
       "      <td>SNOW</td>\n",
       "      <td>13.351064</td>\n",
       "    </tr>\n",
       "    <tr>\n",
       "      <th>2</th>\n",
       "      <td>AK</td>\n",
       "      <td>19900101</td>\n",
       "      <td>TAVG</td>\n",
       "      <td>-1.333333</td>\n",
       "    </tr>\n",
       "    <tr>\n",
       "      <th>3</th>\n",
       "      <td>AK</td>\n",
       "      <td>19900101</td>\n",
       "      <td>TMAX</td>\n",
       "      <td>-141.514286</td>\n",
       "    </tr>\n",
       "    <tr>\n",
       "      <th>4</th>\n",
       "      <td>AK</td>\n",
       "      <td>19900101</td>\n",
       "      <td>TMIN</td>\n",
       "      <td>-218.133333</td>\n",
       "    </tr>\n",
       "    <tr>\n",
       "      <th>...</th>\n",
       "      <td>...</td>\n",
       "      <td>...</td>\n",
       "      <td>...</td>\n",
       "      <td>...</td>\n",
       "    </tr>\n",
       "    <tr>\n",
       "      <th>90511</th>\n",
       "      <td>WY</td>\n",
       "      <td>19991231</td>\n",
       "      <td>PRCP</td>\n",
       "      <td>1.807487</td>\n",
       "    </tr>\n",
       "    <tr>\n",
       "      <th>90512</th>\n",
       "      <td>WY</td>\n",
       "      <td>19991231</td>\n",
       "      <td>SNOW</td>\n",
       "      <td>0.000000</td>\n",
       "    </tr>\n",
       "    <tr>\n",
       "      <th>90513</th>\n",
       "      <td>WY</td>\n",
       "      <td>19991231</td>\n",
       "      <td>TAVG</td>\n",
       "      <td>-41.148936</td>\n",
       "    </tr>\n",
       "    <tr>\n",
       "      <th>90514</th>\n",
       "      <td>WY</td>\n",
       "      <td>19991231</td>\n",
       "      <td>TMAX</td>\n",
       "      <td>32.336898</td>\n",
       "    </tr>\n",
       "    <tr>\n",
       "      <th>90515</th>\n",
       "      <td>WY</td>\n",
       "      <td>19991231</td>\n",
       "      <td>TMIN</td>\n",
       "      <td>-93.946524</td>\n",
       "    </tr>\n",
       "  </tbody>\n",
       "</table>\n",
       "<p>817639 rows × 4 columns</p>\n",
       "</div>"
      ],
      "text/plain": [
       "      State      date metric_name  metric_value\n",
       "0        AK  19900101        PRCP      9.441667\n",
       "1        AK  19900101        SNOW     13.351064\n",
       "2        AK  19900101        TAVG     -1.333333\n",
       "3        AK  19900101        TMAX   -141.514286\n",
       "4        AK  19900101        TMIN   -218.133333\n",
       "...     ...       ...         ...           ...\n",
       "90511    WY  19991231        PRCP      1.807487\n",
       "90512    WY  19991231        SNOW      0.000000\n",
       "90513    WY  19991231        TAVG    -41.148936\n",
       "90514    WY  19991231        TMAX     32.336898\n",
       "90515    WY  19991231        TMIN    -93.946524\n",
       "\n",
       "[817639 rows x 4 columns]"
      ]
     },
     "execution_count": 29,
     "metadata": {},
     "output_type": "execute_result"
    }
   ],
   "source": [
    "data_append.drop(['var4','Unnamed: 0'], 1)"
   ]
  },
  {
   "cell_type": "code",
   "execution_count": 30,
   "metadata": {},
   "outputs": [],
   "source": [
    "data_append.to_csv(r'C:\\Users\\Shilp\\Documents\\Shilpa\\Shilpa MSBA\\Semester 1\\Programming for Analytics [CIS 9650]\\Final Group Project\\data_1990_1999.csv') "
   ]
  },
  {
   "cell_type": "code",
   "execution_count": null,
   "metadata": {},
   "outputs": [],
   "source": []
  }
 ],
 "metadata": {
  "kernelspec": {
   "display_name": "Python 3",
   "language": "python",
   "name": "python3"
  },
  "language_info": {
   "codemirror_mode": {
    "name": "ipython",
    "version": 3
   },
   "file_extension": ".py",
   "mimetype": "text/x-python",
   "name": "python",
   "nbconvert_exporter": "python",
   "pygments_lexer": "ipython3",
   "version": "3.8.3"
  }
 },
 "nbformat": 4,
 "nbformat_minor": 4
}
